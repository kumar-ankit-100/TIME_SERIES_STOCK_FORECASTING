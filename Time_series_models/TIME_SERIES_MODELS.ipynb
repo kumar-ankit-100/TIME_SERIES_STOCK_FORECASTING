{
 "cells": [
  {
   "cell_type": "code",
   "execution_count": 2,
   "id": "12c143cd-355a-4af7-94bf-258f0a87e5ae",
   "metadata": {},
   "outputs": [
    {
     "name": "stderr",
     "output_type": "stream",
     "text": [
      "15:48:49 - cmdstanpy - INFO - Chain [1] start processing\n",
      "15:48:51 - cmdstanpy - INFO - Chain [1] done processing\n"
     ]
    },
    {
     "name": "stdout",
     "output_type": "stream",
     "text": [
      "✅ ADANIPORTS processed.\n"
     ]
    },
    {
     "name": "stderr",
     "output_type": "stream",
     "text": [
      "15:49:22 - cmdstanpy - INFO - Chain [1] start processing\n",
      "15:49:26 - cmdstanpy - INFO - Chain [1] done processing\n"
     ]
    },
    {
     "name": "stdout",
     "output_type": "stream",
     "text": [
      "✅ ASIANPAINT processed.\n"
     ]
    },
    {
     "name": "stderr",
     "output_type": "stream",
     "text": [
      "\n",
      "KeyboardInterrupt\n",
      "\n"
     ]
    }
   ],
   "source": [
    "import os\n",
    "import pandas as pd\n",
    "import numpy as np\n",
    "import matplotlib.pyplot as plt\n",
    "import warnings\n",
    "warnings.filterwarnings(\"ignore\")\n",
    "\n",
    "from statsmodels.tsa.arima.model import ARIMA\n",
    "from statsmodels.tsa.statespace.sarimax import SARIMAX\n",
    "from prophet import Prophet\n",
    "from sklearn.metrics import mean_absolute_error, mean_squared_error\n",
    "import joblib\n",
    "\n",
    "# 📁 Folder Setup\n",
    "input_folder = r'C:\\Users\\jahna\\OneDrive\\Documents\\TIME_SERIES_STOCK_FORECASTING\\PREPROCESSING\\CLEAN_DATA_FINAL'  \n",
    "output_folder = r'C:\\Users\\jahna\\OneDrive\\Documents\\TIME_SERIES_STOCK_FORECASTING\\Time_Series_Models\\time_series_outputs'\n",
    "model_folder = os.path.join(output_folder, \"models\")\n",
    "os.makedirs(output_folder, exist_ok=True)\n",
    "os.makedirs(model_folder, exist_ok=True)\n",
    "\n",
    "# 📊 Evaluation Function\n",
    "def evaluate(y_true, y_pred):\n",
    "    mae = mean_absolute_error(y_true, y_pred)\n",
    "    rmse = np.sqrt(mean_squared_error(y_true, y_pred))\n",
    "    return mae, rmse\n",
    "\n",
    "# 📦 Store Metrics\n",
    "all_metrics = []\n",
    "\n",
    "# 🔁 Loop through files\n",
    "for file in os.listdir(input_folder):\n",
    "    if not file.endswith(\".csv\"):\n",
    "        continue\n",
    "\n",
    "    stock = file.replace(\".csv\", \"\")\n",
    "    filepath = os.path.join(input_folder, file)\n",
    "\n",
    "    try:\n",
    "        df = pd.read_csv(filepath)\n",
    "        if 'date' not in df.columns or 'close' not in df.columns:\n",
    "            print(f\"❌ Skipping {stock}: missing columns.\")\n",
    "            continue\n",
    "\n",
    "        df['date'] = pd.to_datetime(df['date'], errors='coerce')\n",
    "        df = df[['date', 'close']].dropna().sort_values('date')\n",
    "        df.set_index('date', inplace=True)\n",
    "        ts = df.asfreq('D').interpolate()\n",
    "\n",
    "        train_size = int(len(ts) * 0.8)\n",
    "        train, test = ts.iloc[:train_size], ts.iloc[train_size:]\n",
    "\n",
    "        # 1️⃣ ARIMA\n",
    "        try:\n",
    "            arima_model = ARIMA(train, order=(5, 1, 0)).fit()\n",
    "            arima_pred = arima_model.forecast(steps=len(test))\n",
    "            arima_mae, arima_rmse = evaluate(test['close'], arima_pred)\n",
    "            joblib.dump(arima_model, os.path.join(model_folder, f\"{stock}_ARIMA.pkl\"))\n",
    "        except Exception as e:\n",
    "            arima_mae, arima_rmse = None, None\n",
    "            print(f\"ARIMA failed for {stock}: {e}\")\n",
    "\n",
    "        # 2️⃣ SARIMA\n",
    "        try:\n",
    "            sarima_model = SARIMAX(train, order=(1, 1, 1), seasonal_order=(1, 1, 1, 12)).fit(disp=False)\n",
    "            sarima_pred = sarima_model.forecast(steps=len(test))\n",
    "            sarima_mae, sarima_rmse = evaluate(test['close'], sarima_pred)\n",
    "            joblib.dump(sarima_model, os.path.join(model_folder, f\"{stock}_SARIMA.pkl\"))\n",
    "        except Exception as e:\n",
    "            sarima_mae, sarima_rmse = None, None\n",
    "            print(f\"SARIMA failed for {stock}: {e}\")\n",
    "\n",
    "        # 3️⃣ Prophet\n",
    "        try:\n",
    "            prophet_df = train.reset_index().rename(columns={\"date\": \"ds\", \"close\": \"y\"})\n",
    "            test_df = test.reset_index().rename(columns={\"date\": \"ds\", \"close\": \"y\"})\n",
    "            model_prophet = Prophet(daily_seasonality=True)\n",
    "            model_prophet.fit(prophet_df)\n",
    "            future = model_prophet.make_future_dataframe(periods=len(test))\n",
    "            forecast = model_prophet.predict(future)\n",
    "            prophet_pred = forecast['yhat'][-len(test):].values\n",
    "            prophet_mae, prophet_rmse = evaluate(test_df['y'].values, prophet_pred)\n",
    "            joblib.dump(model_prophet, os.path.join(model_folder, f\"{stock}_Prophet.pkl\"))\n",
    "        except Exception as e:\n",
    "            prophet_mae, prophet_rmse = None, None\n",
    "            print(f\"Prophet failed for {stock}: {e}\")\n",
    "\n",
    "        # 📈 Plot Forecasts\n",
    "        plt.figure(figsize=(12, 5))\n",
    "        plt.plot(test.index, test['close'], label=\"Actual\")\n",
    "        if arima_mae is not None: plt.plot(test.index, arima_pred, label=\"ARIMA\")\n",
    "        if sarima_mae is not None: plt.plot(test.index, sarima_pred, label=\"SARIMA\")\n",
    "        if prophet_mae is not None: plt.plot(test.index, prophet_pred, label=\"Prophet\")\n",
    "        plt.title(f\"{stock} - Forecast Comparison\")\n",
    "        plt.legend()\n",
    "        plt.tight_layout()\n",
    "        plt.grid(True)\n",
    "        plt.savefig(os.path.join(output_folder, f\"{stock}_forecast.png\"))\n",
    "        plt.close()\n",
    "\n",
    "        # 📊 Save metrics\n",
    "        all_metrics.append({\n",
    "            \"Stock\": stock,\n",
    "            \"ARIMA_MAE\": arima_mae,\n",
    "            \"ARIMA_RMSE\": arima_rmse,\n",
    "            \"SARIMA_MAE\": sarima_mae,\n",
    "            \"SARIMA_RMSE\": sarima_rmse,\n",
    "            \"Prophet_MAE\": prophet_mae,\n",
    "            \"Prophet_RMSE\": prophet_rmse,\n",
    "        })\n",
    "\n",
    "        print(f\"✅ {stock} processed.\")\n",
    "\n",
    "    except Exception as e:\n",
    "        print(f\"⚠️ Skipping {stock} due to error: {e}\")\n",
    "\n",
    "# 💾 Save metrics\n",
    "metrics_df = pd.DataFrame(all_metrics)\n",
    "metrics_df.to_csv(os.path.join(output_folder, \"model_metrics_summary.csv\"), index=False)\n",
    "\n",
    "\n",
    "print(\"🎉 All models processed, saved, and zipped.\")\n"
   ]
  },
  {
   "cell_type": "code",
   "execution_count": null,
   "id": "5e0ee51f-5410-42be-a0cd-bf96517cfa68",
   "metadata": {},
   "outputs": [],
   "source": []
  }
 ],
 "metadata": {
  "kernelspec": {
   "display_name": "Python [conda env:base] *",
   "language": "python",
   "name": "conda-base-py"
  },
  "language_info": {
   "codemirror_mode": {
    "name": "ipython",
    "version": 3
   },
   "file_extension": ".py",
   "mimetype": "text/x-python",
   "name": "python",
   "nbconvert_exporter": "python",
   "pygments_lexer": "ipython3",
   "version": "3.12.7"
  }
 },
 "nbformat": 4,
 "nbformat_minor": 5
}
